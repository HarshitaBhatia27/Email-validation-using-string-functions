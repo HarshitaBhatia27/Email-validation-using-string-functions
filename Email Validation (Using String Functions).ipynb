{
 "cells": [
  {
   "cell_type": "code",
   "execution_count": 9,
   "id": "211dd052",
   "metadata": {},
   "outputs": [
    {
     "name": "stdout",
     "output_type": "stream",
     "text": [
      "Enter your email address: harshi@gmail.com\n",
      "Valid Email.\n"
     ]
    }
   ],
   "source": [
    "email = input(\"Enter your email address: \")\n",
    "k = 0 #count for lower case letter\n",
    "u = 0 # count for upper letter\n",
    "d = 0 # count for special characters and signs\n",
    "if len(email)>=6: \n",
    "    if email[0].isalpha():\n",
    "        if (\"@\" in email) and (email.count(\"@\")==1):\n",
    "            if (email[-4] == \".\") ^ (email[-3] == \".\"):\n",
    "                for i in email:\n",
    "                    if i==i.isspace():\n",
    "                        k = 1\n",
    "                    elif i.isalpha():\n",
    "                        if i == i.upper():\n",
    "                            u = 1\n",
    "                    elif i.isdigit(): #digits are allowed \n",
    "                        continue \n",
    "                    elif i == \"_\" or i==\"@\" or i==\".\":\n",
    "                        continue \n",
    "                    else: \n",
    "                        d=1\n",
    "                if d==1:\n",
    "                    print(\"Wrong Email.Username should not contain special characters and symbols.\")\n",
    "                if u==1:\n",
    "                    print(\"Wrong Email.All the letters must be in lower case.\")\n",
    "                if k==1:\n",
    "                    print(\"Wrong Email. There should be no space in the email.\")\n",
    "                else :\n",
    "                    print(\"Valid Email.\")\n",
    "            else:\n",
    "                print(\"Wrong email.Invalid Syntax (.)\")\n",
    "\n",
    "\n",
    "        else: \n",
    "            print(\"Wrong email. Only one @ is allowed. \")\n",
    "    else:\n",
    "        print(\"Wrong email. Invalid syntax. \")\n",
    "else:\n",
    "    print(\"Wrong email. Check the length of the email. \")\n"
   ]
  },
  {
   "cell_type": "code",
   "execution_count": null,
   "id": "ac6f68a8",
   "metadata": {},
   "outputs": [],
   "source": []
  }
 ],
 "metadata": {
  "kernelspec": {
   "display_name": "Python 3 (ipykernel)",
   "language": "python",
   "name": "python3"
  },
  "language_info": {
   "codemirror_mode": {
    "name": "ipython",
    "version": 3
   },
   "file_extension": ".py",
   "mimetype": "text/x-python",
   "name": "python",
   "nbconvert_exporter": "python",
   "pygments_lexer": "ipython3",
   "version": "3.8.8"
  }
 },
 "nbformat": 4,
 "nbformat_minor": 5
}
